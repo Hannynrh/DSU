{
 "cells": [
  {
   "cell_type": "code",
   "execution_count": 1,
   "metadata": {},
   "outputs": [
    {
     "data": {
      "text/html": [
       "<div>\n",
       "<style scoped>\n",
       "    .dataframe tbody tr th:only-of-type {\n",
       "        vertical-align: middle;\n",
       "    }\n",
       "\n",
       "    .dataframe tbody tr th {\n",
       "        vertical-align: top;\n",
       "    }\n",
       "\n",
       "    .dataframe thead th {\n",
       "        text-align: right;\n",
       "    }\n",
       "</style>\n",
       "<table border=\"1\" class=\"dataframe\">\n",
       "  <thead>\n",
       "    <tr style=\"text-align: right;\">\n",
       "      <th></th>\n",
       "      <th>ID</th>\n",
       "      <th>Screen name</th>\n",
       "      <th>Foto Profil</th>\n",
       "      <th>Following</th>\n",
       "      <th>Following kurang 30</th>\n",
       "      <th>Followers</th>\n",
       "      <th>Followers lebih 1000</th>\n",
       "      <th>Tweet</th>\n",
       "      <th>Tweet kurang 50</th>\n",
       "      <th>Lokasi</th>\n",
       "      <th>...</th>\n",
       "      <th>Follower Ratio 2:1</th>\n",
       "      <th>Follower Ratio 50:1</th>\n",
       "      <th>Follower Ratio 100:1</th>\n",
       "      <th>Pola Aktivitas Akun</th>\n",
       "      <th>Usia Akun (bulan)</th>\n",
       "      <th>Usia Akun kurang sama dengan 12</th>\n",
       "      <th>Rataan Tweet per Minggu</th>\n",
       "      <th>Retweet Ratio %</th>\n",
       "      <th>Retweet Ratio lebih sama dengan 60</th>\n",
       "      <th>Kategori</th>\n",
       "    </tr>\n",
       "  </thead>\n",
       "  <tbody>\n",
       "    <tr>\n",
       "      <th>0</th>\n",
       "      <td>1,32E+22</td>\n",
       "      <td>1</td>\n",
       "      <td>0</td>\n",
       "      <td>53</td>\n",
       "      <td>0</td>\n",
       "      <td>25</td>\n",
       "      <td>0</td>\n",
       "      <td>3</td>\n",
       "      <td>1</td>\n",
       "      <td>1</td>\n",
       "      <td>...</td>\n",
       "      <td>1</td>\n",
       "      <td>0</td>\n",
       "      <td>0</td>\n",
       "      <td>1</td>\n",
       "      <td>0</td>\n",
       "      <td>1</td>\n",
       "      <td>0.29</td>\n",
       "      <td>33</td>\n",
       "      <td>0</td>\n",
       "      <td>1</td>\n",
       "    </tr>\n",
       "    <tr>\n",
       "      <th>1</th>\n",
       "      <td>1,32E+23</td>\n",
       "      <td>1</td>\n",
       "      <td>0</td>\n",
       "      <td>218</td>\n",
       "      <td>0</td>\n",
       "      <td>52</td>\n",
       "      <td>0</td>\n",
       "      <td>3</td>\n",
       "      <td>1</td>\n",
       "      <td>1</td>\n",
       "      <td>...</td>\n",
       "      <td>0</td>\n",
       "      <td>0</td>\n",
       "      <td>0</td>\n",
       "      <td>0</td>\n",
       "      <td>0</td>\n",
       "      <td>1</td>\n",
       "      <td>0.25</td>\n",
       "      <td>0</td>\n",
       "      <td>0</td>\n",
       "      <td>0</td>\n",
       "    </tr>\n",
       "    <tr>\n",
       "      <th>2</th>\n",
       "      <td>1,33E+23</td>\n",
       "      <td>1</td>\n",
       "      <td>0</td>\n",
       "      <td>530</td>\n",
       "      <td>0</td>\n",
       "      <td>123</td>\n",
       "      <td>0</td>\n",
       "      <td>5</td>\n",
       "      <td>1</td>\n",
       "      <td>1</td>\n",
       "      <td>...</td>\n",
       "      <td>0</td>\n",
       "      <td>0</td>\n",
       "      <td>0</td>\n",
       "      <td>0</td>\n",
       "      <td>0</td>\n",
       "      <td>1</td>\n",
       "      <td>0.65</td>\n",
       "      <td>0</td>\n",
       "      <td>0</td>\n",
       "      <td>0</td>\n",
       "    </tr>\n",
       "    <tr>\n",
       "      <th>3</th>\n",
       "      <td>1,33E+23</td>\n",
       "      <td>1</td>\n",
       "      <td>1</td>\n",
       "      <td>237</td>\n",
       "      <td>0</td>\n",
       "      <td>18</td>\n",
       "      <td>0</td>\n",
       "      <td>6</td>\n",
       "      <td>1</td>\n",
       "      <td>1</td>\n",
       "      <td>...</td>\n",
       "      <td>0</td>\n",
       "      <td>0</td>\n",
       "      <td>0</td>\n",
       "      <td>1</td>\n",
       "      <td>0</td>\n",
       "      <td>1</td>\n",
       "      <td>0.77</td>\n",
       "      <td>0</td>\n",
       "      <td>1</td>\n",
       "      <td>1</td>\n",
       "    </tr>\n",
       "    <tr>\n",
       "      <th>4</th>\n",
       "      <td>1,35E+23</td>\n",
       "      <td>1</td>\n",
       "      <td>0</td>\n",
       "      <td>94</td>\n",
       "      <td>0</td>\n",
       "      <td>31</td>\n",
       "      <td>0</td>\n",
       "      <td>14</td>\n",
       "      <td>1</td>\n",
       "      <td>1</td>\n",
       "      <td>...</td>\n",
       "      <td>0</td>\n",
       "      <td>0</td>\n",
       "      <td>0</td>\n",
       "      <td>1</td>\n",
       "      <td>0</td>\n",
       "      <td>1</td>\n",
       "      <td>3700.00</td>\n",
       "      <td>86</td>\n",
       "      <td>1</td>\n",
       "      <td>1</td>\n",
       "    </tr>\n",
       "    <tr>\n",
       "      <th>5</th>\n",
       "      <td>1,34E+23</td>\n",
       "      <td>1</td>\n",
       "      <td>0</td>\n",
       "      <td>631</td>\n",
       "      <td>0</td>\n",
       "      <td>1858</td>\n",
       "      <td>1</td>\n",
       "      <td>1001</td>\n",
       "      <td>0</td>\n",
       "      <td>1</td>\n",
       "      <td>...</td>\n",
       "      <td>0</td>\n",
       "      <td>0</td>\n",
       "      <td>0</td>\n",
       "      <td>0</td>\n",
       "      <td>0</td>\n",
       "      <td>1</td>\n",
       "      <td>310.00</td>\n",
       "      <td>1</td>\n",
       "      <td>0</td>\n",
       "      <td>0</td>\n",
       "    </tr>\n",
       "    <tr>\n",
       "      <th>6</th>\n",
       "      <td>1,34E+23</td>\n",
       "      <td>0</td>\n",
       "      <td>1</td>\n",
       "      <td>513</td>\n",
       "      <td>0</td>\n",
       "      <td>493</td>\n",
       "      <td>0</td>\n",
       "      <td>168</td>\n",
       "      <td>0</td>\n",
       "      <td>1</td>\n",
       "      <td>...</td>\n",
       "      <td>0</td>\n",
       "      <td>0</td>\n",
       "      <td>0</td>\n",
       "      <td>0</td>\n",
       "      <td>0</td>\n",
       "      <td>1</td>\n",
       "      <td>72.00</td>\n",
       "      <td>45</td>\n",
       "      <td>0</td>\n",
       "      <td>0</td>\n",
       "    </tr>\n",
       "    <tr>\n",
       "      <th>7</th>\n",
       "      <td>1,33E+23</td>\n",
       "      <td>0</td>\n",
       "      <td>0</td>\n",
       "      <td>88</td>\n",
       "      <td>0</td>\n",
       "      <td>42</td>\n",
       "      <td>0</td>\n",
       "      <td>14</td>\n",
       "      <td>1</td>\n",
       "      <td>0</td>\n",
       "      <td>...</td>\n",
       "      <td>1</td>\n",
       "      <td>0</td>\n",
       "      <td>0</td>\n",
       "      <td>0</td>\n",
       "      <td>0</td>\n",
       "      <td>1</td>\n",
       "      <td>2.20</td>\n",
       "      <td>0</td>\n",
       "      <td>0</td>\n",
       "      <td>0</td>\n",
       "    </tr>\n",
       "    <tr>\n",
       "      <th>8</th>\n",
       "      <td>1,33E+23</td>\n",
       "      <td>1</td>\n",
       "      <td>1</td>\n",
       "      <td>463</td>\n",
       "      <td>0</td>\n",
       "      <td>7893</td>\n",
       "      <td>0</td>\n",
       "      <td>327</td>\n",
       "      <td>0</td>\n",
       "      <td>1</td>\n",
       "      <td>...</td>\n",
       "      <td>0</td>\n",
       "      <td>0</td>\n",
       "      <td>0</td>\n",
       "      <td>1</td>\n",
       "      <td>0</td>\n",
       "      <td>1</td>\n",
       "      <td>24.00</td>\n",
       "      <td>95</td>\n",
       "      <td>1</td>\n",
       "      <td>1</td>\n",
       "    </tr>\n",
       "    <tr>\n",
       "      <th>9</th>\n",
       "      <td>1,26E+23</td>\n",
       "      <td>0</td>\n",
       "      <td>1</td>\n",
       "      <td>53</td>\n",
       "      <td>0</td>\n",
       "      <td>46819</td>\n",
       "      <td>1</td>\n",
       "      <td>43</td>\n",
       "      <td>0</td>\n",
       "      <td>1</td>\n",
       "      <td>...</td>\n",
       "      <td>0</td>\n",
       "      <td>0</td>\n",
       "      <td>0</td>\n",
       "      <td>1</td>\n",
       "      <td>0</td>\n",
       "      <td>1</td>\n",
       "      <td>0.97</td>\n",
       "      <td>66</td>\n",
       "      <td>1</td>\n",
       "      <td>1</td>\n",
       "    </tr>\n",
       "  </tbody>\n",
       "</table>\n",
       "<p>10 rows × 22 columns</p>\n",
       "</div>"
      ],
      "text/plain": [
       "         ID  Screen name  Foto Profil  Following  Following kurang 30  \\\n",
       "0  1,32E+22            1            0         53                    0   \n",
       "1  1,32E+23            1            0        218                    0   \n",
       "2  1,33E+23            1            0        530                    0   \n",
       "3  1,33E+23            1            1        237                    0   \n",
       "4  1,35E+23            1            0         94                    0   \n",
       "5  1,34E+23            1            0        631                    0   \n",
       "6  1,34E+23            0            1        513                    0   \n",
       "7  1,33E+23            0            0         88                    0   \n",
       "8  1,33E+23            1            1        463                    0   \n",
       "9  1,26E+23            0            1         53                    0   \n",
       "\n",
       "   Followers  Followers lebih 1000  Tweet  Tweet kurang 50  Lokasi  ...  \\\n",
       "0         25                     0      3                1       1  ...   \n",
       "1         52                     0      3                1       1  ...   \n",
       "2        123                     0      5                1       1  ...   \n",
       "3         18                     0      6                1       1  ...   \n",
       "4         31                     0     14                1       1  ...   \n",
       "5       1858                     1   1001                0       1  ...   \n",
       "6        493                     0    168                0       1  ...   \n",
       "7         42                     0     14                1       0  ...   \n",
       "8       7893                     0    327                0       1  ...   \n",
       "9      46819                     1     43                0       1  ...   \n",
       "\n",
       "   Follower Ratio 2:1  Follower Ratio 50:1  Follower Ratio 100:1  \\\n",
       "0                   1                    0                     0   \n",
       "1                   0                    0                     0   \n",
       "2                   0                    0                     0   \n",
       "3                   0                    0                     0   \n",
       "4                   0                    0                     0   \n",
       "5                   0                    0                     0   \n",
       "6                   0                    0                     0   \n",
       "7                   1                    0                     0   \n",
       "8                   0                    0                     0   \n",
       "9                   0                    0                     0   \n",
       "\n",
       "   Pola Aktivitas Akun  Usia Akun (bulan)  Usia Akun kurang sama dengan 12  \\\n",
       "0                    1                  0                                1   \n",
       "1                    0                  0                                1   \n",
       "2                    0                  0                                1   \n",
       "3                    1                  0                                1   \n",
       "4                    1                  0                                1   \n",
       "5                    0                  0                                1   \n",
       "6                    0                  0                                1   \n",
       "7                    0                  0                                1   \n",
       "8                    1                  0                                1   \n",
       "9                    1                  0                                1   \n",
       "\n",
       "   Rataan Tweet per Minggu  Retweet Ratio %  \\\n",
       "0                     0.29               33   \n",
       "1                     0.25                0   \n",
       "2                     0.65                0   \n",
       "3                     0.77                0   \n",
       "4                  3700.00               86   \n",
       "5                   310.00                1   \n",
       "6                    72.00               45   \n",
       "7                     2.20                0   \n",
       "8                    24.00               95   \n",
       "9                     0.97               66   \n",
       "\n",
       "   Retweet Ratio lebih sama dengan 60  Kategori  \n",
       "0                                   0         1  \n",
       "1                                   0         0  \n",
       "2                                   0         0  \n",
       "3                                   1         1  \n",
       "4                                   1         1  \n",
       "5                                   0         0  \n",
       "6                                   0         0  \n",
       "7                                   0         0  \n",
       "8                                   1         1  \n",
       "9                                   1         1  \n",
       "\n",
       "[10 rows x 22 columns]"
      ]
     },
     "execution_count": 1,
     "metadata": {},
     "output_type": "execute_result"
    }
   ],
   "source": [
    "import pandas as pd, numpy as np\n",
    "data = pd.read_csv('D:\\hanny\\DSU\\Bot Twitter.csv')\n",
    "data.head(10)"
   ]
  },
  {
   "cell_type": "code",
   "execution_count": 2,
   "metadata": {},
   "outputs": [
    {
     "data": {
      "text/plain": [
       "(2000, 22)"
      ]
     },
     "execution_count": 2,
     "metadata": {},
     "output_type": "execute_result"
    }
   ],
   "source": [
    "data.shape"
   ]
  },
  {
   "cell_type": "code",
   "execution_count": 3,
   "metadata": {},
   "outputs": [
    {
     "data": {
      "text/plain": [
       "ID                                    0\n",
       "Screen name                           0\n",
       "Foto Profil                           0\n",
       "Following                             0\n",
       "Following kurang 30                   0\n",
       "Followers                             0\n",
       "Followers lebih 1000                  0\n",
       "Tweet                                 0\n",
       "Tweet kurang 50                       0\n",
       "Lokasi                                0\n",
       "URL                                   0\n",
       "Deskripsi                             0\n",
       "Follower Ratio 2:1                    0\n",
       "Follower Ratio 50:1                   0\n",
       "Follower Ratio 100:1                  0\n",
       "Pola Aktivitas Akun                   0\n",
       "Usia Akun (bulan)                     0\n",
       "Usia Akun kurang sama dengan 12       0\n",
       "Rataan Tweet per Minggu               0\n",
       "Retweet Ratio %                       0\n",
       "Retweet Ratio lebih sama dengan 60    0\n",
       "Kategori                              0\n",
       "dtype: int64"
      ]
     },
     "execution_count": 3,
     "metadata": {},
     "output_type": "execute_result"
    }
   ],
   "source": [
    "data.isnull().sum()"
   ]
  },
  {
   "cell_type": "code",
   "execution_count": 4,
   "metadata": {},
   "outputs": [
    {
     "data": {
      "text/plain": [
       "0    1000\n",
       "1    1000\n",
       "Name: Kategori, dtype: int64"
      ]
     },
     "execution_count": 4,
     "metadata": {},
     "output_type": "execute_result"
    }
   ],
   "source": [
    "data.Kategori.value_counts()"
   ]
  },
  {
   "cell_type": "code",
   "execution_count": 5,
   "metadata": {},
   "outputs": [],
   "source": [
    "fitur= data.iloc[:, 1:21].values"
   ]
  },
  {
   "cell_type": "code",
   "execution_count": 6,
   "metadata": {},
   "outputs": [
    {
     "data": {
      "text/plain": [
       "array([ 1.  ,  0.  , 53.  ,  0.  , 25.  ,  0.  ,  3.  ,  1.  ,  1.  ,\n",
       "        0.  ,  0.  ,  1.  ,  0.  ,  0.  ,  1.  ,  0.  ,  1.  ,  0.29,\n",
       "       33.  ,  0.  ])"
      ]
     },
     "execution_count": 6,
     "metadata": {},
     "output_type": "execute_result"
    }
   ],
   "source": [
    "fitur[0]"
   ]
  },
  {
   "cell_type": "code",
   "execution_count": 7,
   "metadata": {},
   "outputs": [],
   "source": [
    "label = data.iloc[:, 21:22].values"
   ]
  },
  {
   "cell_type": "code",
   "execution_count": 8,
   "metadata": {},
   "outputs": [
    {
     "data": {
      "text/plain": [
       "array([[1],\n",
       "       [0],\n",
       "       [0],\n",
       "       ...,\n",
       "       [0],\n",
       "       [1],\n",
       "       [0]], dtype=int64)"
      ]
     },
     "execution_count": 8,
     "metadata": {},
     "output_type": "execute_result"
    }
   ],
   "source": [
    "label"
   ]
  },
  {
   "cell_type": "code",
   "execution_count": 9,
   "metadata": {},
   "outputs": [],
   "source": [
    "from sklearn.model_selection import train_test_split\n",
    "fitur_train, fitur_test, label_train, label_test = train_test_split(fitur, label, random_state= 0, test_size= 0.20)"
   ]
  },
  {
   "cell_type": "code",
   "execution_count": 10,
   "metadata": {},
   "outputs": [
    {
     "data": {
      "text/plain": [
       "1600"
      ]
     },
     "execution_count": 10,
     "metadata": {},
     "output_type": "execute_result"
    }
   ],
   "source": [
    "len(fitur_train)"
   ]
  },
  {
   "cell_type": "code",
   "execution_count": 11,
   "metadata": {},
   "outputs": [
    {
     "data": {
      "text/plain": [
       "400"
      ]
     },
     "execution_count": 11,
     "metadata": {},
     "output_type": "execute_result"
    }
   ],
   "source": [
    "len(fitur_test)"
   ]
  },
  {
   "cell_type": "code",
   "execution_count": 12,
   "metadata": {},
   "outputs": [],
   "source": [
    "from sklearn.preprocessing import StandardScaler\n",
    "sc = StandardScaler()\n",
    "fitur_train = sc.fit_transform(fitur_train)\n",
    "fitur_test= sc.transform(fitur_test)"
   ]
  },
  {
   "cell_type": "code",
   "execution_count": 15,
   "metadata": {},
   "outputs": [
    {
     "name": "stdout",
     "output_type": "stream",
     "text": [
      "Akurasi =  0.8175\n",
      "[[161  42]\n",
      " [ 31 166]]\n",
      "              precision    recall  f1-score   support\n",
      "\n",
      "           0       0.84      0.79      0.82       203\n",
      "           1       0.80      0.84      0.82       197\n",
      "\n",
      "    accuracy                           0.82       400\n",
      "   macro avg       0.82      0.82      0.82       400\n",
      "weighted avg       0.82      0.82      0.82       400\n",
      "\n"
     ]
    },
    {
     "name": "stderr",
     "output_type": "stream",
     "text": [
      "C:\\Users\\Aarifinn\\anaconda3\\lib\\site-packages\\sklearn\\utils\\validation.py:63: DataConversionWarning: A column-vector y was passed when a 1d array was expected. Please change the shape of y to (n_samples, ), for example using ravel().\n",
      "  return f(*args, **kwargs)\n"
     ]
    }
   ],
   "source": [
    "#svm linear\n",
    "from sklearn.svm import SVC\n",
    "svm = SVC(kernel = 'linear')\n",
    "svm.fit(fitur_train, label_train)\n",
    "svm_predict = svm.predict(fitur_test)\n",
    "\n",
    "#membuat confussion matriks dan menghitung akurasi,presisi,recall,f1score\n",
    "from sklearn.metrics import confusion_matrix,classification_report\n",
    "from sklearn.metrics import accuracy_score\n",
    "print('Akurasi = ', accuracy_score(label_test, svm_predict))\n",
    "print(confusion_matrix(label_test, svm_predict))\n",
    "print(classification_report(label_test, svm_predict))"
   ]
  },
  {
   "cell_type": "code",
   "execution_count": 17,
   "metadata": {},
   "outputs": [
    {
     "name": "stdout",
     "output_type": "stream",
     "text": [
      "Akurasi =  0.5825\n",
      "[[199   4]\n",
      " [163  34]]\n",
      "              precision    recall  f1-score   support\n",
      "\n",
      "           0       0.55      0.98      0.70       203\n",
      "           1       0.89      0.17      0.29       197\n",
      "\n",
      "    accuracy                           0.58       400\n",
      "   macro avg       0.72      0.58      0.50       400\n",
      "weighted avg       0.72      0.58      0.50       400\n",
      "\n"
     ]
    },
    {
     "name": "stderr",
     "output_type": "stream",
     "text": [
      "C:\\Users\\Aarifinn\\anaconda3\\lib\\site-packages\\sklearn\\utils\\validation.py:63: DataConversionWarning: A column-vector y was passed when a 1d array was expected. Please change the shape of y to (n_samples, ), for example using ravel().\n",
      "  return f(*args, **kwargs)\n"
     ]
    }
   ],
   "source": [
    "#naivebayes\n",
    "from sklearn.naive_bayes import GaussianNB\n",
    "gnb = GaussianNB()\n",
    "gnb.fit(fitur_train, label_train)\n",
    "gnb_predict = gnb.predict(fitur_test)\n",
    "\n",
    "print('Akurasi = ', accuracy_score(label_test, gnb_predict))\n",
    "print(confusion_matrix(label_test, gnb_predict))\n",
    "print(classification_report(label_test, gnb_predict))"
   ]
  },
  {
   "cell_type": "code",
   "execution_count": 18,
   "metadata": {},
   "outputs": [
    {
     "name": "stdout",
     "output_type": "stream",
     "text": [
      "Akurasi =  0.85\n",
      "[[171  32]\n",
      " [ 28 169]]\n",
      "              precision    recall  f1-score   support\n",
      "\n",
      "           0       0.86      0.84      0.85       203\n",
      "           1       0.84      0.86      0.85       197\n",
      "\n",
      "    accuracy                           0.85       400\n",
      "   macro avg       0.85      0.85      0.85       400\n",
      "weighted avg       0.85      0.85      0.85       400\n",
      "\n"
     ]
    }
   ],
   "source": [
    "from sklearn import tree\n",
    "DT = tree.DecisionTreeClassifier()\n",
    "DT.fit(fitur_train, label_train)\n",
    "DT_predict = DT.predict(fitur_test)\n",
    "\n",
    "print('Akurasi = ', accuracy_score(label_test, DT_predict))\n",
    "print(confusion_matrix(label_test, DT_predict))\n",
    "print(classification_report(label_test, DT_predict))"
   ]
  },
  {
   "cell_type": "code",
   "execution_count": null,
   "metadata": {},
   "outputs": [],
   "source": []
  }
 ],
 "metadata": {
  "kernelspec": {
   "display_name": "Python 3",
   "language": "python",
   "name": "python3"
  },
  "language_info": {
   "codemirror_mode": {
    "name": "ipython",
    "version": 3
   },
   "file_extension": ".py",
   "mimetype": "text/x-python",
   "name": "python",
   "nbconvert_exporter": "python",
   "pygments_lexer": "ipython3",
   "version": "3.8.5"
  }
 },
 "nbformat": 4,
 "nbformat_minor": 4
}
